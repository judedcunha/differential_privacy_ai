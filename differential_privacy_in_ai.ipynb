{
  "nbformat": 4,
  "nbformat_minor": 0,
  "metadata": {
    "colab": {
      "provenance": []
    },
    "kernelspec": {
      "name": "python3",
      "display_name": "Python 3"
    },
    "language_info": {
      "name": "python"
    }
  },
  "cells": [
    {
      "cell_type": "markdown",
      "source": [
        "**1. Data Preparation**\n",
        "\n",
        "**Data Cleaning:**\n",
        "- **Remove PII Columns:** Columns like `Name`, `SSN`, and `DOB` are direct identifiers and removed to protect privacy.\n",
        "- **Handle Missing Values:**\n",
        "  - Numerical features (e.g., `Income`, `Heart rate`) are imputed with median.\n",
        "  - Categorical features (e.g., `Marital Status`) are imputed with mode.\n",
        "- **Encode Categorical Variables:** Use one-hot encoding for `Country`, `Marital Status`, `House Status`, `Blood Type`, etc. Label encode the target variable `Tumor` (Normal=0, Abnormal=1).\n",
        "\n",
        "**2. Apply Differential Privacy**\n",
        "- **Add Laplace Noise:** For numerical features (`Income`, `Heart rate`, `Oxygen level`), add noise using the Laplace mechanism. The noise scale is determined by sensitivity (Δ) and privacy budget (ε):\n"
      ],
      "metadata": {
        "id": "lM-F5Z264lDZ"
      }
    },
    {
      "cell_type": "code",
      "execution_count": null,
      "metadata": {
        "id": "ouDr_IQd4h4k"
      },
      "outputs": [],
      "source": [
        "def add_laplace_noise(data, epsilon=1.0):\n",
        "    sensitivity = data.max() - data.min()\n",
        "    scale = sensitivity / epsilon\n",
        "    noise = np.random.laplace(0, scale, data.shape)\n",
        "    return data + noise"
      ]
    },
    {
      "cell_type": "markdown",
      "source": [
        "**3. Model Training**\n",
        "- **Baseline Model (Original Data):** Train a logistic regression model and evaluate performance.\n",
        "- **Private Model (Noisy Data):** Train the same model on data with Laplace noise and compare metrics.\n",
        "\n",
        "**4. Evaluation**\n",
        "- **Performance Metrics:** Compare accuracy, precision, recall, and F1-score between baseline and private models.\n",
        "- **Privacy vs. Utility Trade-off:** Discuss how ε impacts privacy and model performance.\n",
        "\n",
        "**5. Legal and Ethical Implications**\n",
        "- **GDPR Compliance:** Techniques like differential privacy help anonymize data, supporting compliance.\n",
        "- **Data Ownership:** Users retain ownership; encrypted processing respects their rights.\n",
        "- **Ethical Considerations:** Ensure transparency and prevent re-identification.\n"
      ],
      "metadata": {
        "id": "ykf7gEDU477j"
      }
    },
    {
      "cell_type": "code",
      "source": [
        "import pandas as pd\n",
        "import numpy as np\n",
        "from sklearn.model_selection import train_test_split\n",
        "from sklearn.linear_model import LogisticRegression\n",
        "from sklearn.metrics import accuracy_score, f1_score\n",
        "from sklearn.preprocessing import OneHotEncoder, LabelEncoder\n",
        "from sklearn.impute import SimpleImputer\n",
        "import warnings\n",
        "warnings.filterwarnings('ignore')"
      ],
      "metadata": {
        "id": "jOkkhZP05PTh"
      },
      "execution_count": null,
      "outputs": []
    },
    {
      "cell_type": "code",
      "source": [
        "# Load data\n",
        "# Make sure that the dataset is uploaded in the session storage\n",
        "df = pd.read_csv('Assignment2Dataset-1.csv')\n",
        "\n",
        "# Remove PII columns\n",
        "df_clean = df.drop(['Name', 'SSN', 'DOB'], axis=1)\n",
        "df_clean['Oxygen Level'] = df_clean['Oxygen Level'].str.replace('%', '').astype(float)\n",
        "\n",
        "# Handle missing values\n",
        "num_cols = ['Income', 'Heart Rate', 'Oxygen Level']\n",
        "cat_cols = ['Country', 'Marital Status', 'House Status', 'Blood Type']\n"
      ],
      "metadata": {
        "id": "9deyS5e65Rxp"
      },
      "execution_count": null,
      "outputs": []
    },
    {
      "cell_type": "code",
      "source": [
        "\n",
        "# Impute numerical features\n",
        "num_imputer = SimpleImputer(strategy='median')\n",
        "df_clean[num_cols] = num_imputer.fit_transform(df_clean[num_cols])\n",
        "\n",
        "# Impute categorical features\n",
        "cat_imputer = SimpleImputer(strategy='most_frequent')\n",
        "df_clean[cat_cols] = cat_imputer.fit_transform(df_clean[cat_cols])\n"
      ],
      "metadata": {
        "id": "JjFx7BNy5VZW"
      },
      "execution_count": null,
      "outputs": []
    },
    {
      "cell_type": "code",
      "source": [
        "# Encode categorical variables\n",
        "encoder = OneHotEncoder(sparse_output=False, handle_unknown='ignore')\n",
        "encoded_cats = encoder.fit_transform(df_clean[cat_cols])\n",
        "encoded_cat_df = pd.DataFrame(encoded_cats, columns=encoder.get_feature_names_out(cat_cols))\n",
        "\n",
        "# Combine encoded data with numerical features\n",
        "X = pd.concat([df_clean[num_cols], encoded_cat_df], axis=1)\n",
        "y = LabelEncoder().fit_transform(df_clean['Tumor Condition'])\n"
      ],
      "metadata": {
        "id": "BMWxnD-M5XFG"
      },
      "execution_count": null,
      "outputs": []
    },
    {
      "cell_type": "code",
      "source": [
        "# Split data\n",
        "X_train, X_test, y_train, y_test = train_test_split(X, y, test_size=0.2, random_state=42)\n",
        "\n",
        "# Baseline model\n",
        "model = LogisticRegression()\n",
        "model.fit(X_train, y_train)\n",
        "y_pred = model.predict(X_test)\n",
        "print(f\"Baseline Accuracy: {accuracy_score(y_test, y_pred):.2f}\")\n",
        "print(f\"Baseline F1: {f1_score(y_test, y_pred):.2f}\")\n",
        "\n",
        "# Apply differential privacy to numerical features\n",
        "def add_laplace_noise(data, epsilon=1.0):\n",
        "    sensitivity = data.max() - data.min()\n",
        "    scale = sensitivity / epsilon\n",
        "    noise = np.random.laplace(0, scale, data.shape)\n",
        "    return data + noise\n"
      ],
      "metadata": {
        "colab": {
          "base_uri": "https://localhost:8080/"
        },
        "id": "Ect0GhIw43Bi",
        "outputId": "f66580f6-c4af-4518-8218-f1f883cfe56a"
      },
      "execution_count": null,
      "outputs": [
        {
          "output_type": "stream",
          "name": "stdout",
          "text": [
            "Baseline Accuracy: 1.00\n",
            "Baseline F1: 1.00\n"
          ]
        }
      ]
    },
    {
      "cell_type": "code",
      "source": [
        "\n",
        "X_private = X.copy()\n",
        "X_private[num_cols] = add_laplace_noise(X_private[num_cols], epsilon=1.0)\n",
        "\n",
        "# Split private data\n",
        "Xp_train, Xp_test, yp_train, yp_test = train_test_split(X_private, y, test_size=0.2, random_state=42)\n",
        "\n",
        "# Private model\n",
        "model_private = LogisticRegression()\n",
        "model_private.fit(Xp_train, yp_train)\n",
        "yp_pred = model_private.predict(Xp_test)\n",
        "print(f\"Differential Privacy Accuracy: {accuracy_score(yp_test, yp_pred):.2f}\")\n",
        "print(f\"Differential Privacy F1: {f1_score(yp_test, yp_pred):.2f}\")\n",
        "\n",
        "# Save encrypted dataset\n",
        "df_clean[num_cols] = X_private[num_cols]\n",
        "df_clean.to_csv('encrypted_dataset.csv', index=False)"
      ],
      "metadata": {
        "colab": {
          "base_uri": "https://localhost:8080/"
        },
        "id": "wm1JHon-5dnx",
        "outputId": "2e79c509-a89c-4e10-fda2-304561cb9de7"
      },
      "execution_count": null,
      "outputs": [
        {
          "output_type": "stream",
          "name": "stdout",
          "text": [
            "Differential Privacy Accuracy: 0.92\n",
            "Differential Privacy F1: 0.96\n"
          ]
        }
      ]
    },
    {
      "cell_type": "markdown",
      "source": [
        "\n",
        "**Output Analysis:**\n",
        "- **Baseline Model:** Accuracy=1.0, F1=1.0\n",
        "- **Private Model (ε=1.0):** Accuracy=0.92, F1=0.96\n",
        "\n",
        "**Discussion:**\n",
        "- The private model’s performance slightly decreased but maintained reasonable accuracy, indicating a viable privacy-utility balance.\n",
        "- Higher ε values yield better utility but less privacy; tuning is essential.\n",
        "\n",
        "**Legal & Ethical Evaluation:**\n",
        "- Differential privacy aligns with GDPR’s data minimization and anonymization requirements.\n",
        "- Ensures ethical AI by preventing re-identification and respecting user consent.\n"
      ],
      "metadata": {
        "id": "tgQlAxlW7mxR"
      }
    },
    {
      "cell_type": "code",
      "source": [],
      "metadata": {
        "id": "gcKBxLiSQ2PE"
      },
      "execution_count": null,
      "outputs": []
    }
  ]
}